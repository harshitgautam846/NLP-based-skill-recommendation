{
 "cells": [
  {
   "cell_type": "code",
   "execution_count": 41,
   "metadata": {},
   "outputs": [],
   "source": [
    "from pdfminer.pdfinterp import PDFResourceManager, PDFPageInterpreter\n",
    "from pdfminer.converter import TextConverter\n",
    "from pdfminer.layout import LAParams\n",
    "from pdfminer.pdfpage import PDFPage\n",
    "from io import StringIO\n",
    "import os\n",
    "from gensim.models import Word2Vec"
   ]
  },
  {
   "cell_type": "code",
   "execution_count": 2,
   "metadata": {},
   "outputs": [],
   "source": [
    "os.chdir('/home/jack/Desktop/codeasylum/codeasylum notebooks/projects/resume')"
   ]
  },
  {
   "cell_type": "code",
   "execution_count": 3,
   "metadata": {},
   "outputs": [
    {
     "data": {
      "text/plain": [
       "'/home/jack/Desktop/codeasylum/codeasylum notebooks/projects/resume'"
      ]
     },
     "execution_count": 3,
     "metadata": {},
     "output_type": "execute_result"
    }
   ],
   "source": [
    "os.getcwd()"
   ]
  },
  {
   "cell_type": "code",
   "execution_count": 4,
   "metadata": {
    "scrolled": true
   },
   "outputs": [],
   "source": [
    "def convertPDFToText(path):\n",
    "    rsrcmgr = PDFResourceManager()\n",
    "    retstr = StringIO()\n",
    "    codec = 'utf-8'\n",
    "    laparams = LAParams()\n",
    "    device = TextConverter(rsrcmgr, retstr, codec=codec, laparams=laparams)\n",
    "    fp = open(path, 'rb')\n",
    "    interpreter = PDFPageInterpreter(rsrcmgr, device)\n",
    "    password = \"\"\n",
    "    maxpages = 0\n",
    "    caching = True\n",
    "    pagenos=set()\n",
    "    for page in PDFPage.get_pages(fp, pagenos, maxpages=maxpages, password=password,caching=caching, check_extractable=True):\n",
    "        interpreter.process_page(page)\n",
    "    fp.close()\n",
    "    device.close()\n",
    "    string = retstr.getvalue()\n",
    "    retstr.close()\n",
    "    return string"
   ]
  },
  {
   "cell_type": "code",
   "execution_count": 26,
   "metadata": {},
   "outputs": [],
   "source": [
    "text = convertPDFToText(\"Profile (1).pdf\")"
   ]
  },
  {
   "cell_type": "code",
   "execution_count": 27,
   "metadata": {},
   "outputs": [
    {
     "name": "stdout",
     "output_type": "stream",
     "text": [
      " \n",
      "\n",
      " \n",
      "\n",
      " \n",
      "\n",
      "Swaraj Bhanja\n",
      "\n",
      "Bachelor of Engineering (BE) Computer Science Engineering at Birla\n",
      "Institute of Technology\n",
      "East Singhbhum, Jharkhand, India\n",
      "\n",
      "Education\n",
      "Birla Institute of Technology\n",
      "Bachelor of Engineering - BE, Computer Software Engineering · (2017 - 2021)\n",
      "\n",
      "Loyola School Jamshedpur\n",
      " · (2003 - 2016)\n",
      "\n",
      "Contact\n",
      "Birla Institute of Technology Mesra,\n",
      "Ranchi, Jamshedpur, Jharkhand -\n",
      "831001\n",
      "+917484913556 (Mobile)\n",
      "swarajbhanja607@gmail.com\n",
      "\n",
      "www.linkedin.com/in/swaraj-\n",
      "bhanja-b137a9188 (LinkedIn)\n",
      "\n",
      "Top Skills\n",
      "HTML5\n",
      "CSS3\n",
      "JavaScript\n",
      "\n",
      "Languages\n",
      "Bengali (Native or Bilingual)\n",
      "Hindi (Native or Bilingual)\n",
      "German (Elementary)\n",
      "\n",
      "Page 1 of 1\n",
      "\n",
      "\f",
      "\n"
     ]
    }
   ],
   "source": [
    "print(text)"
   ]
  },
  {
   "cell_type": "code",
   "execution_count": 28,
   "metadata": {},
   "outputs": [
    {
     "data": {
      "text/plain": [
       "['\\xa0',\n",
       " '',\n",
       " '\\xa0',\n",
       " '',\n",
       " '\\xa0',\n",
       " '',\n",
       " 'Swaraj Bhanja',\n",
       " '',\n",
       " 'Bachelor of Engineering (BE) Computer Science Engineering at Birla',\n",
       " 'Institute of Technology',\n",
       " 'East Singhbhum, Jharkhand, India',\n",
       " '',\n",
       " 'Education',\n",
       " 'Birla Institute of Technology',\n",
       " 'Bachelor of Engineering - BE,\\xa0Computer Software Engineering\\xa0·\\xa0(2017\\xa0-\\xa02021)',\n",
       " '',\n",
       " 'Loyola School Jamshedpur',\n",
       " '\\xa0·\\xa0(2003\\xa0-\\xa02016)',\n",
       " '',\n",
       " 'Contact',\n",
       " 'Birla Institute of Technology Mesra,',\n",
       " 'Ranchi, Jamshedpur, Jharkhand -',\n",
       " '831001',\n",
       " '+917484913556 (Mobile)',\n",
       " 'swarajbhanja607@gmail.com',\n",
       " '',\n",
       " 'www.linkedin.com/in/swaraj-',\n",
       " 'bhanja-b137a9188 (LinkedIn)',\n",
       " '',\n",
       " 'Top Skills',\n",
       " 'HTML5',\n",
       " 'CSS3',\n",
       " 'JavaScript',\n",
       " '',\n",
       " 'Languages',\n",
       " 'Bengali (Native or Bilingual)',\n",
       " 'Hindi (Native or Bilingual)',\n",
       " 'German (Elementary)',\n",
       " '',\n",
       " 'Page 1 of 1',\n",
       " '',\n",
       " '\\x0c']"
      ]
     },
     "execution_count": 28,
     "metadata": {},
     "output_type": "execute_result"
    }
   ],
   "source": [
    "text.split('\\n')"
   ]
  },
  {
   "cell_type": "code",
   "execution_count": 36,
   "metadata": {},
   "outputs": [],
   "source": [
    "skill = []\n",
    "corp = text.split('\\n')\n",
    "if 'Top Skills' in corp:\n",
    "    for i in range (len(corp)):\n",
    "        if corp[i] == 'Top Skills':\n",
    "            skill.append(corp[i+1].lower())\n",
    "            skill.append(corp[i+2].lower())\n",
    "            skill.append(corp[i+3].lower())\n",
    "            break"
   ]
  },
  {
   "cell_type": "code",
   "execution_count": 38,
   "metadata": {},
   "outputs": [
    {
     "data": {
      "text/plain": [
       "'supply chain management,project planning,logistics management'"
      ]
     },
     "execution_count": 38,
     "metadata": {},
     "output_type": "execute_result"
    }
   ],
   "source": [
    "ans = ','.join(skill)\n",
    "ans"
   ]
  },
  {
   "cell_type": "code",
   "execution_count": 39,
   "metadata": {},
   "outputs": [],
   "source": [
    "skills =[]\n",
    "for i in range(1,86):\n",
    "    text = convertPDFToText(\"Profile (\"+str(i)+\").pdf\")\n",
    "    skill = []\n",
    "    corp = text.split('\\n')\n",
    "    if 'Top Skills' in corp:\n",
    "        for i in range (len(corp)):\n",
    "            if corp[i] == 'Top Skills':\n",
    "                skill.append(corp[i+1].lower())\n",
    "                skill.append(corp[i+2].lower())\n",
    "                skill.append(corp[i+3].lower())\n",
    "                break\n",
    "        skills.append(skill)"
   ]
  },
  {
   "cell_type": "code",
   "execution_count": 40,
   "metadata": {},
   "outputs": [
    {
     "data": {
      "text/plain": [
       "[['html5', 'css3', 'javascript'],\n",
       " ['microsoft office', 'management', 'microsoft excel'],\n",
       " ['microsoft office', 'customer service', 'management'],\n",
       " ['c++', 'data structure ', 'graphic design'],\n",
       " ['secondary research', 'team building', 'handling of uv equipment'],\n",
       " ['microsoft office', 'microsoft excel', 'microsoft word'],\n",
       " ['data analytics', 'r', 'sas programming'],\n",
       " ['c', 'microsoft office', 'c  '],\n",
       " ['technical recruiting', 'contract recruitment', 'headhunting'],\n",
       " ['chemical engineering', 'microsoft office', 'powerpoint'],\n",
       " ['strategic planning', 'data analysis', 'statistical data analysis'],\n",
       " ['microsoft excel', 'microsoft word', 'c'],\n",
       " ['microsoft office', 'c', 'microsoft powerpoint'],\n",
       " ['java', 'oracle', 'project management'],\n",
       " ['management', 'public speaking', 'team leadership'],\n",
       " ['event management', 'management', 'public speaking'],\n",
       " ['market research', 'data analysis', 'microsoft powerpoint'],\n",
       " ['management', 'public speaking', 'team leadership'],\n",
       " ['sql', 'c', 'c++'],\n",
       " ['html', 'java', 'css'],\n",
       " ['microsoft office', 'microsoft excel', 'microsoft word'],\n",
       " ['html', 'c++', 'powerpoint'],\n",
       " ['object-oriented programming', '(oop)', 'test planning'],\n",
       " ['c', 'c++', 'microsoft office'],\n",
       " ['c++', 'django', 'cascading style sheets (css)'],\n",
       " ['react.js', 'data structures', 'algorithms'],\n",
       " ['core java', 'spring framework', 'restful webservices'],\n",
       " ['laravel', 'c++', 'python'],\n",
       " ['c++', 'data structure ', 'graphic design'],\n",
       " ['management', 'public speaking', 'team leadership'],\n",
       " ['java', 'turbo c++', 'data structures'],\n",
       " ['finance', 'team leadership', 'team management'],\n",
       " ['microsoft office', 'microsoft excel', 'microsoft word'],\n",
       " ['microsoft excel', 'sql', 'public relations'],\n",
       " ['social media', 'blogging', ''],\n",
       " ['management', 'public speaking', 'team leadership'],\n",
       " ['microsoft office', 'social media marketing', 'social media'],\n",
       " ['java', 'c  ', 'c'],\n",
       " ['business strategy', 'operations management', 'project management'],\n",
       " ['c', 'html', 'social media'],\n",
       " ['mobile applications', 'user experience', 'web applications'],\n",
       " ['pick basic', 'unidata', 'c'],\n",
       " ['c++', 'c', 'cloud computing'],\n",
       " ['c', 'c++', 'microsoft office'],\n",
       " ['c++', 'c', 'html'],\n",
       " ['test cases', 'regression testing', 'testing'],\n",
       " ['software quality control', 'functional testing', 'testing'],\n",
       " ['core php', 'codeignitr', 'cake php'],\n",
       " ['html', 'asp.net', 'java'],\n",
       " ['talent acquisition', 'recruiting', 'screening'],\n",
       " ['node.js', 'javascript', 'java'],\n",
       " ['management', 'public speaking', 'team leadership'],\n",
       " ['machine learning', 'python', 'natural language processing'],\n",
       " ['java', 'c++', 'c'],\n",
       " ['finance', 'team leadership', 'team management'],\n",
       " ['java', 'c++', 'mysql'],\n",
       " ['business strategy', 'operations management', 'project management'],\n",
       " ['core java', 'sql', 'pl/sql'],\n",
       " ['algorithms', 'c++', 'python'],\n",
       " ['c', 'microsoft office', 'c  '],\n",
       " ['java', 'programming', 'spring framework'],\n",
       " ['python', 'c', 'html'],\n",
       " ['c', 'c++', 'hp qtp'],\n",
       " ['core java', 'salesforce', 'tdd'],\n",
       " ['c', 'programming', 'c++'],\n",
       " ['java', 'python', 'data structures'],\n",
       " ['php', 'javascript', 'mysql'],\n",
       " ['c', 'microsoft office', 'java'],\n",
       " ['java', 'core java', 'c'],\n",
       " ['django', 'ember.js', 'chef'],\n",
       " ['economics', 'analysis', 'operational excellence'],\n",
       " ['c', 'java', 'apache spark'],\n",
       " ['management', 'public speaking', 'team leadership'],\n",
       " ['java', 'oracle', 'project management'],\n",
       " ['data analytics', 'r', 'sas programming'],\n",
       " ['node.js', 'javascript', 'java'],\n",
       " ['operations management', 'management', 'data-driven decision making'],\n",
       " ['python', 'sql', 'c++'],\n",
       " ['supply chain management', 'project planning', 'logistics management']]"
      ]
     },
     "execution_count": 40,
     "metadata": {},
     "output_type": "execute_result"
    }
   ],
   "source": [
    "skills"
   ]
  },
  {
   "cell_type": "code",
   "execution_count": 42,
   "metadata": {},
   "outputs": [],
   "source": [
    "model=Word2Vec(skills,min_count=1)\n",
    "words=model.wv.vocab"
   ]
  },
  {
   "cell_type": "code",
   "execution_count": 50,
   "metadata": {},
   "outputs": [
    {
     "name": "stdout",
     "output_type": "stream",
     "text": [
      "[('django', 0.2783448100090027), ('data structure ', 0.22636063396930695), ('social media marketing', 0.20842240750789642), ('algorithms', 0.18462100625038147), ('natural language processing', 0.1753535270690918), ('turbo c++', 0.1727331280708313), ('software quality control', 0.1641760766506195), ('blogging', 0.15280181169509888), ('spring framework', 0.1521618813276291), ('project planning', 0.1516471654176712)]\n"
     ]
    }
   ],
   "source": [
    "word = 'sql'\n",
    "\n",
    "vector=model.wv[word]\n",
    "similar=model.wv.most_similar(word)\n",
    "print(similar)"
   ]
  }
 ],
 "metadata": {
  "kernelspec": {
   "display_name": "Python 3",
   "language": "python",
   "name": "python3"
  },
  "language_info": {
   "codemirror_mode": {
    "name": "ipython",
    "version": 3
   },
   "file_extension": ".py",
   "mimetype": "text/x-python",
   "name": "python",
   "nbconvert_exporter": "python",
   "pygments_lexer": "ipython3",
   "version": "3.7.3"
  }
 },
 "nbformat": 4,
 "nbformat_minor": 2
}
